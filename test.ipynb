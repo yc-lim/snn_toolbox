{
 "cells": [
  {
   "cell_type": "code",
   "execution_count": 2,
   "metadata": {},
   "outputs": [],
   "source": [
    "import numpy as np"
   ]
  },
  {
   "cell_type": "code",
   "execution_count": 13,
   "metadata": {},
   "outputs": [
    {
     "name": "stdout",
     "output_type": "stream",
     "text": [
      "<class 'tuple'>\n",
      "(array([1, 2]), array([3, 4]))\n",
      "------------------------\n",
      "<class 'numpy.ndarray'>\n",
      "[[1 2]\n",
      " [3 4]]\n"
     ]
    }
   ],
   "source": [
    "a = (np.array([1,2]), np.array([3,4]))\n",
    "print(type(a))\n",
    "print(a)\n",
    "print(\"------------------------\")\n",
    "np.savez_compressed(\"data\", a)\n",
    "np.savez(\"data2\", a)\n",
    "b = np.load(\"data.npz\")[\"arr_0\"]\n",
    "print(type(b))\n",
    "print(b)"
   ]
  },
  {
   "cell_type": "code",
   "execution_count": 12,
   "metadata": {},
   "outputs": [
    {
     "name": "stdout",
     "output_type": "stream",
     "text": [
      "<class 'numpy.ndarray'>\n",
      "[[1. 2.]\n",
      " [3. 4.]]\n"
     ]
    }
   ],
   "source": [
    "np.savetxt(\"savetxt.txt\",a)\n",
    "c = np.loadtxt(\"savetxt.txt\")\n",
    "print(type(c))\n",
    "print(c)"
   ]
  },
  {
   "cell_type": "code",
   "execution_count": 16,
   "metadata": {},
   "outputs": [
    {
     "name": "stdout",
     "output_type": "stream",
     "text": [
      "[[ 0 -1]\n",
      " [ 2  3]]\n"
     ]
    }
   ],
   "source": [
    "d = np.array([(0,-1), (2,3)])\n",
    "print(d)"
   ]
  },
  {
   "cell_type": "code",
   "execution_count": 18,
   "metadata": {},
   "outputs": [
    {
     "name": "stdout",
     "output_type": "stream",
     "text": [
      "Python 3.7.9\n",
      "Tensorflow 2.1.0\n",
      "[PhysicalDevice(name='/physical_device:CPU:0', device_type='CPU'), PhysicalDevice(name='/physical_device:GPU:0', device_type='GPU')]\n",
      "Found GPU at: /device:GPU:0\n"
     ]
    }
   ],
   "source": [
    "import tensorflow as tf\n",
    "from tensorflow.keras.layers import Dense\n",
    "from tensorflow.keras import Input, Model\n",
    "\n",
    "!python --version\n",
    "print(\"Tensorflow\", tf.__version__)\n",
    "print(tf.config.list_physical_devices())\n",
    "print(\"Found GPU at:\", tf.test.gpu_device_name())"
   ]
  },
  {
   "cell_type": "code",
   "execution_count": 103,
   "metadata": {},
   "outputs": [],
   "source": [
    "def make_model(in_shape):\n",
    "  input_layer = Input(in_shape[1:])\n",
    "  layer = tf.split(input_layer, [40,80], axis=2)\n",
    "  mask = tf.sign(tf.reduce_max(tf.abs(input_layer), axis=2, keepdims=True))\n",
    "  model = Model(input_layer, [layer,mask])\n",
    "  return model"
   ]
  },
  {
   "cell_type": "code",
   "execution_count": 104,
   "metadata": {},
   "outputs": [
    {
     "name": "stdout",
     "output_type": "stream",
     "text": [
      "Model: \"model_7\"\n",
      "__________________________________________________________________________________________________\n",
      "Layer (type)                    Output Shape         Param #     Connected to                     \n",
      "==================================================================================================\n",
      "input_10 (InputLayer)           [(None, 64, 120)]    0                                            \n",
      "__________________________________________________________________________________________________\n",
      "tf_op_layer_Abs_5 (TensorFlowOp [(None, 64, 120)]    0           input_10[0][0]                   \n",
      "__________________________________________________________________________________________________\n",
      "tf_op_layer_Max_5 (TensorFlowOp [(None, 64, 1)]      0           tf_op_layer_Abs_5[0][0]          \n",
      "__________________________________________________________________________________________________\n",
      "tf_op_layer_split_8 (TensorFlow [(None, 64, 40), (No 0           input_10[0][0]                   \n",
      "__________________________________________________________________________________________________\n",
      "tf_op_layer_Sign_5 (TensorFlowO [(None, 64, 1)]      0           tf_op_layer_Max_5[0][0]          \n",
      "==================================================================================================\n",
      "Total params: 0\n",
      "Trainable params: 0\n",
      "Non-trainable params: 0\n",
      "__________________________________________________________________________________________________\n"
     ]
    }
   ],
   "source": [
    "model = make_model((None,64,120))\n",
    "model.compile(optimizer=\"adam\", loss=\"categorical_crossentropy\", metrics=[\"acc\", \"ce\"])\n",
    "\n",
    "model.summary()"
   ]
  },
  {
   "cell_type": "code",
   "execution_count": 111,
   "metadata": {},
   "outputs": [
    {
     "name": "stdout",
     "output_type": "stream",
     "text": [
      "TensorFlowOpLayer\n",
      "[(None, 64, 40), (None, 64, 80)]\n",
      "SplitV\n",
      "[]\n"
     ]
    }
   ],
   "source": [
    "l = model.get_layer(\"tf_op_layer_split_8\")\n",
    "print(l.__class__.__name__)\n",
    "l.get_input_shape_at?\n",
    "print(l.output_shape)\n",
    "print(l.node_def.op)\n",
    "x = l.outbound_nodes\n",
    "print(x)\n",
    "# x.get_type()\n",
    "s=\"a\"\n",
    "s.zfill?"
   ]
  }
 ],
 "metadata": {
  "kernelspec": {
   "display_name": "Python (SNN Toolbox)",
   "language": "python",
   "name": "snn-tb"
  },
  "language_info": {
   "codemirror_mode": {
    "name": "ipython",
    "version": 3
   },
   "file_extension": ".py",
   "mimetype": "text/x-python",
   "name": "python",
   "nbconvert_exporter": "python",
   "pygments_lexer": "ipython3",
   "version": "3.7.9"
  }
 },
 "nbformat": 4,
 "nbformat_minor": 4
}
